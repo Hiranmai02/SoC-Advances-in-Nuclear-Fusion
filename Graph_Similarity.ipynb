{
  "nbformat": 4,
  "nbformat_minor": 0,
  "metadata": {
    "colab": {
      "name": "Graph_Similarity.ipynb",
      "provenance": []
    },
    "kernelspec": {
      "name": "python3",
      "display_name": "Python 3"
    },
    "language_info": {
      "name": "python"
    }
  },
  "cells": [
    {
      "cell_type": "code",
      "execution_count": 263,
      "metadata": {
        "id": "Q1COfaAL-Ni1"
      },
      "outputs": [],
      "source": [
        "import numpy as np\n",
        "import scipy.stats as stats\n",
        "import matplotlib.pyplot as plt"
      ]
    },
    {
      "cell_type": "markdown",
      "source": [
        "Creating a dataset using the uniform distribution and adding noise to the first dataset to create the second. The rest of the code can be used when the data points are given as tuples."
      ],
      "metadata": {
        "id": "CABHB6XSGDGx"
      }
    },
    {
      "cell_type": "code",
      "source": [
        "size = 100\n",
        "epsilon = 1\n",
        "x1 = size*stats.uniform.rvs(size = size)\n",
        "x2 = x1 + (size/100)*stats.uniform.rvs(size = size)\n",
        "y1 = size*stats.uniform.rvs(size = size)\n",
        "y2 = y1 + (size/100)*stats.uniform.rvs(size = size)"
      ],
      "metadata": {
        "id": "05k-oVllfhBi"
      },
      "execution_count": 264,
      "outputs": []
    },
    {
      "cell_type": "markdown",
      "source": [
        "Creating tuples from the x and y values for the two sets."
      ],
      "metadata": {
        "id": "bjjfCujhGqdw"
      }
    },
    {
      "cell_type": "code",
      "source": [
        "set1 = list()\n",
        "set2 = list()\n",
        "for (x, y) in zip(x1, y1):\n",
        "  set1.append((x,y))\n",
        "for (x, y) in zip(x2, y2):\n",
        "  set2.append((x,y))"
      ],
      "metadata": {
        "id": "C4QSLXR-Bask"
      },
      "execution_count": 265,
      "outputs": []
    },
    {
      "cell_type": "markdown",
      "source": [
        "Sorting the two sets by x to find the corresponding closest points. "
      ],
      "metadata": {
        "id": "njvWvoGcGzVs"
      }
    },
    {
      "cell_type": "code",
      "source": [
        "set1.sort()"
      ],
      "metadata": {
        "id": "-ivzl4AnDFQm"
      },
      "execution_count": 266,
      "outputs": []
    },
    {
      "cell_type": "code",
      "source": [
        "set2.sort()"
      ],
      "metadata": {
        "id": "luMVXiMlDNqA"
      },
      "execution_count": 267,
      "outputs": []
    },
    {
      "cell_type": "markdown",
      "source": [
        "Plotting the points"
      ],
      "metadata": {
        "id": "NXnvRywMHFcN"
      }
    },
    {
      "cell_type": "code",
      "source": [
        "plt.scatter(*zip(*set1))\n",
        "plt.scatter(*zip(*set2))\n",
        "plt.xlim([0,size])\n",
        "plt.ylim([0,size])\n",
        "plt.legend(['1', '2'])"
      ],
      "metadata": {
        "colab": {
          "base_uri": "https://localhost:8080/",
          "height": 286
        },
        "id": "ZiBocpb8gXIH",
        "outputId": "2d7fad94-3b5c-4cd0-b732-bbe47a1a7cf7"
      },
      "execution_count": 268,
      "outputs": [
        {
          "output_type": "execute_result",
          "data": {
            "text/plain": [
              "<matplotlib.legend.Legend at 0x7f3fdbbea650>"
            ]
          },
          "metadata": {},
          "execution_count": 268
        },
        {
          "output_type": "display_data",
          "data": {
            "text/plain": [
              "<Figure size 432x288 with 1 Axes>"
            ],
            "image/png": "[encoded data removed]"
          },
          "metadata": {
            "needs_background": "light"
          }
        }
      ]
    },
    {
      "cell_type": "markdown",
      "source": [
        "We calculate certain parameters and check it with a given threshold. If it is lesser then we conclude that the points are highly similar. We can choose any of the below methods and a threshold value to suit our purpose."
      ],
      "metadata": {
        "id": "rMvUNo87NpWn"
      }
    },
    {
      "cell_type": "markdown",
      "source": [
        "1. Calculate distance between closest points and use the mean or median as a measure. Median is a more robust form."
      ],
      "metadata": {
        "id": "4NIWgbRsltEX"
      }
    },
    {
      "cell_type": "code",
      "source": [
        "x1 = np.array(list(zip(*set1))[0])\n",
        "x2 = np.array(list(zip(*set2))[0])\n",
        "y1 = np.array(list(zip(*set1))[1])\n",
        "y2 = np.array(list(zip(*set2))[1])"
      ],
      "metadata": {
        "id": "ikfhJXE4HYo1"
      },
      "execution_count": 269,
      "outputs": []
    },
    {
      "cell_type": "code",
      "source": [
        "def dist(x1, y1, x2, y2):\n",
        "  return np.sqrt((x1-x2)**2 + (y1-y2)**2)"
      ],
      "metadata": {
        "id": "2nvInfW5lZTN"
      },
      "execution_count": 270,
      "outputs": []
    },
    {
      "cell_type": "code",
      "source": [
        "d = dist(x1,y1,x2,y2)"
      ],
      "metadata": {
        "id": "mTvj8lG3mMhz"
      },
      "execution_count": 271,
      "outputs": []
    },
    {
      "cell_type": "code",
      "source": [
        "np.mean(d)"
      ],
      "metadata": {
        "colab": {
          "base_uri": "https://localhost:8080/"
        },
        "id": "Wx4soTQKnELx",
        "outputId": "203b5ba9-617f-4232-f87c-f11744a65745"
      },
      "execution_count": 272,
      "outputs": [
        {
          "output_type": "execute_result",
          "data": {
            "text/plain": [
              "10.879056017091697"
            ]
          },
          "metadata": {},
          "execution_count": 272
        }
      ]
    },
    {
      "cell_type": "code",
      "source": [
        "np.mean(d) < epsilon"
      ],
      "metadata": {
        "colab": {
          "base_uri": "https://localhost:8080/"
        },
        "id": "wKfyprwVNIlJ",
        "outputId": "e89cdcc1-6d8c-4cd2-b4ac-1176b9eab210"
      },
      "execution_count": 273,
      "outputs": [
        {
          "output_type": "execute_result",
          "data": {
            "text/plain": [
              "False"
            ]
          },
          "metadata": {},
          "execution_count": 273
        }
      ]
    },
    {
      "cell_type": "code",
      "source": [
        "np.median(d)"
      ],
      "metadata": {
        "colab": {
          "base_uri": "https://localhost:8080/"
        },
        "id": "aWLoshvXnMEP",
        "outputId": "0be1917b-b25c-45b4-8196-b833ea90299e"
      },
      "execution_count": 274,
      "outputs": [
        {
          "output_type": "execute_result",
          "data": {
            "text/plain": [
              "0.8846250102281403"
            ]
          },
          "metadata": {},
          "execution_count": 274
        }
      ]
    },
    {
      "cell_type": "code",
      "source": [
        "np.median(d) < epsilon"
      ],
      "metadata": {
        "colab": {
          "base_uri": "https://localhost:8080/"
        },
        "id": "7BybQJwuNi0J",
        "outputId": "229ac84e-40e4-47ae-bad2-2ad136bbe370"
      },
      "execution_count": 275,
      "outputs": [
        {
          "output_type": "execute_result",
          "data": {
            "text/plain": [
              "True"
            ]
          },
          "metadata": {},
          "execution_count": 275
        }
      ]
    },
    {
      "cell_type": "markdown",
      "source": [
        "2. Calculate correlation between the points and check if they are similar for the two datasets."
      ],
      "metadata": {
        "id": "VgTiALXUnWr4"
      }
    },
    {
      "cell_type": "code",
      "source": [
        "np.corrcoef(x1, y1)"
      ],
      "metadata": {
        "colab": {
          "base_uri": "https://localhost:8080/"
        },
        "id": "lrhCltBJnt-0",
        "outputId": "e1ea45aa-fe76-490a-ccf9-e71a2d330bb0"
      },
      "execution_count": 276,
      "outputs": [
        {
          "output_type": "execute_result",
          "data": {
            "text/plain": [
              "array([[ 1.      , -0.078534],\n",
              "       [-0.078534,  1.      ]])"
            ]
          },
          "metadata": {},
          "execution_count": 276
        }
      ]
    },
    {
      "cell_type": "code",
      "source": [
        "np.corrcoef(x2, y2)"
      ],
      "metadata": {
        "colab": {
          "base_uri": "https://localhost:8080/"
        },
        "id": "aWhprlpRn1DT",
        "outputId": "d6495a43-f112-4212-fcbb-5df2ac6cff40"
      },
      "execution_count": 277,
      "outputs": [
        {
          "output_type": "execute_result",
          "data": {
            "text/plain": [
              "array([[ 1.        , -0.07665354],\n",
              "       [-0.07665354,  1.        ]])"
            ]
          },
          "metadata": {},
          "execution_count": 277
        }
      ]
    },
    {
      "cell_type": "code",
      "source": [
        "abs(np.corrcoef(x1, y1)[0][1] - np.corrcoef(x2, y2)[0][1])"
      ],
      "metadata": {
        "colab": {
          "base_uri": "https://localhost:8080/"
        },
        "id": "WIewYx85JyFo",
        "outputId": "0c67ebde-b940-4120-94b1-0d2b268c089c"
      },
      "execution_count": 278,
      "outputs": [
        {
          "output_type": "execute_result",
          "data": {
            "text/plain": [
              "0.0018804580782685737"
            ]
          },
          "metadata": {},
          "execution_count": 278
        }
      ]
    },
    {
      "cell_type": "code",
      "source": [
        "abs(np.corrcoef(x1, y1)[0][1] - np.corrcoef(x2, y2)[0][1]) < epsilon"
      ],
      "metadata": {
        "colab": {
          "base_uri": "https://localhost:8080/"
        },
        "id": "3w06jTuqN4vH",
        "outputId": "f77d7deb-8779-4256-c107-a97054e47da4"
      },
      "execution_count": 279,
      "outputs": [
        {
          "output_type": "execute_result",
          "data": {
            "text/plain": [
              "True"
            ]
          },
          "metadata": {},
          "execution_count": 279
        }
      ]
    },
    {
      "cell_type": "markdown",
      "source": [
        "3. Absolute difference of y values"
      ],
      "metadata": {
        "id": "ufc9ea7nEvlp"
      }
    },
    {
      "cell_type": "code",
      "source": [
        "np.mean(abs(y1 - y2))"
      ],
      "metadata": {
        "colab": {
          "base_uri": "https://localhost:8080/"
        },
        "id": "gEroWL5nE-sw",
        "outputId": "1ce69889-fc64-4bff-a0c2-5d81aca93a05"
      },
      "execution_count": 280,
      "outputs": [
        {
          "output_type": "execute_result",
          "data": {
            "text/plain": [
              "10.691679348531915"
            ]
          },
          "metadata": {},
          "execution_count": 280
        }
      ]
    },
    {
      "cell_type": "code",
      "source": [
        "np.mean(abs(y1 - y2)) < epsilon"
      ],
      "metadata": {
        "colab": {
          "base_uri": "https://localhost:8080/"
        },
        "id": "HYdT8PTNOGH3",
        "outputId": "c250c533-84ef-4bc5-c49c-8de18031c5a0"
      },
      "execution_count": 281,
      "outputs": [
        {
          "output_type": "execute_result",
          "data": {
            "text/plain": [
              "False"
            ]
          },
          "metadata": {},
          "execution_count": 281
        }
      ]
    },
    {
      "cell_type": "code",
      "source": [
        "np.median(abs(y1 - y2))"
      ],
      "metadata": {
        "colab": {
          "base_uri": "https://localhost:8080/"
        },
        "id": "F_M4yL9XKZBu",
        "outputId": "15c88018-bd83-4119-a62b-e9dbb862c39b"
      },
      "execution_count": 282,
      "outputs": [
        {
          "output_type": "execute_result",
          "data": {
            "text/plain": [
              "0.6638826662380941"
            ]
          },
          "metadata": {},
          "execution_count": 282
        }
      ]
    },
    {
      "cell_type": "code",
      "source": [
        "np.median(abs(y1 - y2)) < epsilon"
      ],
      "metadata": {
        "colab": {
          "base_uri": "https://localhost:8080/"
        },
        "id": "Vsdynng7OIFx",
        "outputId": "170ef55a-b8ce-4338-9786-c641b4ccfeb1"
      },
      "execution_count": 283,
      "outputs": [
        {
          "output_type": "execute_result",
          "data": {
            "text/plain": [
              "True"
            ]
          },
          "metadata": {},
          "execution_count": 283
        }
      ]
    },
    {
      "cell_type": "markdown",
      "source": [
        "4. Squared y values"
      ],
      "metadata": {
        "id": "q-t9q8JUFG4B"
      }
    },
    {
      "cell_type": "code",
      "source": [
        "np.mean(abs((y1 - y2)**2))"
      ],
      "metadata": {
        "colab": {
          "base_uri": "https://localhost:8080/"
        },
        "id": "7FfhUsGCFRoB",
        "outputId": "e6cfa12f-6488-4d3b-e91d-21092b476950"
      },
      "execution_count": 284,
      "outputs": [
        {
          "output_type": "execute_result",
          "data": {
            "text/plain": [
              "496.56430167811726"
            ]
          },
          "metadata": {},
          "execution_count": 284
        }
      ]
    },
    {
      "cell_type": "code",
      "source": [
        "np.mean(abs((y1 - y2)**2)) < epsilon"
      ],
      "metadata": {
        "colab": {
          "base_uri": "https://localhost:8080/"
        },
        "id": "K73nx3hVOQjH",
        "outputId": "c158a29f-9673-4dc2-e4ca-7e7f0ded8a02"
      },
      "execution_count": 285,
      "outputs": [
        {
          "output_type": "execute_result",
          "data": {
            "text/plain": [
              "False"
            ]
          },
          "metadata": {},
          "execution_count": 285
        }
      ]
    },
    {
      "cell_type": "code",
      "source": [
        "np.median(abs((y1 - y2)**2))"
      ],
      "metadata": {
        "colab": {
          "base_uri": "https://localhost:8080/"
        },
        "id": "53-8fUlRKeKw",
        "outputId": "9841230e-92f0-4af5-ecaf-e9a777ad1549"
      },
      "execution_count": 286,
      "outputs": [
        {
          "output_type": "execute_result",
          "data": {
            "text/plain": [
              "0.4415681342561377"
            ]
          },
          "metadata": {},
          "execution_count": 286
        }
      ]
    },
    {
      "cell_type": "code",
      "source": [
        "np.median(abs((y1 - y2)**2)) < epsilon"
      ],
      "metadata": {
        "colab": {
          "base_uri": "https://localhost:8080/"
        },
        "id": "4Mf7Uc-gOWJQ",
        "outputId": "9c158e5c-ad2a-456d-bbc9-59a6777cdfb2"
      },
      "execution_count": 287,
      "outputs": [
        {
          "output_type": "execute_result",
          "data": {
            "text/plain": [
              "True"
            ]
          },
          "metadata": {},
          "execution_count": 287
        }
      ]
    },
    {
      "cell_type": "markdown",
      "source": [
        "We can see that mean clearly fails in most cases. This is due to the presence of outliers. Thus, median is a better measure."
      ],
      "metadata": {
        "id": "h85d2yy3OZcf"
      }
    },
    {
      "cell_type": "markdown",
      "source": [
        "5. Kolmogorov–Smirnov test"
      ],
      "metadata": {
        "id": "6oXQUcYFFdF7"
      }
    },
    {
      "cell_type": "code",
      "source": [
        "stats.ks_2samp(x1, x2)"
      ],
      "metadata": {
        "colab": {
          "base_uri": "https://localhost:8080/"
        },
        "id": "IBIyhswIpNel",
        "outputId": "9af92d11-be4c-4866-fe8e-8acd15c75990"
      },
      "execution_count": 288,
      "outputs": [
        {
          "output_type": "execute_result",
          "data": {
            "text/plain": [
              "Ks_2sampResult(statistic=0.04, pvalue=0.999998821968263)"
            ]
          },
          "metadata": {},
          "execution_count": 288
        }
      ]
    },
    {
      "cell_type": "code",
      "source": [
        "stats.ks_2samp(y1, y2)"
      ],
      "metadata": {
        "colab": {
          "base_uri": "https://localhost:8080/"
        },
        "id": "gBv57nJ8pjl1",
        "outputId": "05a1662d-5dd7-492d-d6bc-c9d6aad362eb"
      },
      "execution_count": 289,
      "outputs": [
        {
          "output_type": "execute_result",
          "data": {
            "text/plain": [
              "Ks_2sampResult(statistic=0.04, pvalue=0.999998821968263)"
            ]
          },
          "metadata": {},
          "execution_count": 289
        }
      ]
    },
    {
      "cell_type": "markdown",
      "source": [
        "High p value implies that the points are highly similar."
      ],
      "metadata": {
        "id": "9g9cR4pzOlGr"
      }
    }
  ]
}