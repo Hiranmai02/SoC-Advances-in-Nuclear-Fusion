{
  "nbformat": 4,
  "nbformat_minor": 0,
  "metadata": {
    "colab": {
      "name": "Graph_Similarity.ipynb",
      "provenance": []
    },
    "kernelspec": {
      "name": "python3",
      "display_name": "Python 3"
    },
    "language_info": {
      "name": "python"
    }
  },
  "cells": [
    {
      "cell_type": "markdown",
      "source": [
        "The graph similarity code elaborates on a set of techniques and methods that can be used to verify whether two sets of data points completely superimpose each other with a certain degree of confidence that can be set by the user. This code uses a synthetic dataset to show the working.\n"
      ],
      "metadata": {
        "id": "UBSFXfNQZEYu"
      }
    },
    {
      "cell_type": "code",
      "execution_count": 1,
      "metadata": {
        "id": "Q1COfaAL-Ni1"
      },
      "outputs": [],
      "source": [
        "import numpy as np\n",
        "import scipy.stats as stats\n",
        "import matplotlib.pyplot as plt"
      ]
    },
    {
      "cell_type": "markdown",
      "source": [
        "Creating a dataset using the uniform distribution and adding noise to the first dataset to create the second. The rest of the code can be used when the data points are given as tuples."
      ],
      "metadata": {
        "id": "CABHB6XSGDGx"
      }
    },
    {
      "cell_type": "code",
      "source": [
        "size = 100\n",
        "epsilon = size/100\n",
        "x1 = size*stats.uniform.rvs(size = size)\n",
        "x2 = x1 + (size/100)*stats.uniform.rvs(size = size)\n",
        "y1 = size*stats.uniform.rvs(size = size)\n",
        "y2 = y1 + (size/100)*stats.uniform.rvs(size = size)"
      ],
      "metadata": {
        "id": "05k-oVllfhBi"
      },
      "execution_count": 2,
      "outputs": []
    },
    {
      "cell_type": "markdown",
      "source": [
        "Creating tuples from the x and y values for the two sets."
      ],
      "metadata": {
        "id": "bjjfCujhGqdw"
      }
    },
    {
      "cell_type": "code",
      "source": [
        "set1 = list()\n",
        "set2 = list()\n",
        "for (x, y) in zip(x1, y1):\n",
        "  set1.append((x,y))\n",
        "for (x, y) in zip(x2, y2):\n",
        "  set2.append((x,y))"
      ],
      "metadata": {
        "id": "C4QSLXR-Bask"
      },
      "execution_count": 3,
      "outputs": []
    },
    {
      "cell_type": "markdown",
      "source": [
        "Sorting the two sets by x to find the corresponding closest points. "
      ],
      "metadata": {
        "id": "njvWvoGcGzVs"
      }
    },
    {
      "cell_type": "code",
      "source": [
        "set1.sort()"
      ],
      "metadata": {
        "id": "-ivzl4AnDFQm"
      },
      "execution_count": 4,
      "outputs": []
    },
    {
      "cell_type": "code",
      "source": [
        "set2.sort()"
      ],
      "metadata": {
        "id": "luMVXiMlDNqA"
      },
      "execution_count": 5,
      "outputs": []
    },
    {
      "cell_type": "markdown",
      "source": [
        "Plotting the points"
      ],
      "metadata": {
        "id": "NXnvRywMHFcN"
      }
    },
    {
      "cell_type": "code",
      "source": [
        "plt.scatter(*zip(*set1))\n",
        "plt.scatter(*zip(*set2))\n",
        "plt.xlim([0,size])\n",
        "plt.ylim([0,size])\n",
        "plt.legend(['1', '2'])"
      ],
      "metadata": {
        "colab": {
          "base_uri": "https://localhost:8080/",
          "height": 286
        },
        "id": "ZiBocpb8gXIH",
        "outputId": "f63275aa-f1bd-4ece-b513-84f45b37e01e"
      },
      "execution_count": 6,
      "outputs": [
        {
          "output_type": "execute_result",
          "data": {
            "text/plain": [
              "<matplotlib.legend.Legend at 0x7fa6daa26490>"
            ]
          },
          "metadata": {},
          "execution_count": 6
        },
        {
          "output_type": "display_data",
          "data": {
            "text/plain": [
              "<Figure size 432x288 with 1 Axes>"
            ],
            "image/png": "[encoded data removed]"
          },
          "metadata": {
            "needs_background": "light"
          }
        }
      ]
    },
    {
      "cell_type": "markdown",
      "source": [
        "We calculate certain parameters and check it with a given threshold. If it is lesser then we conclude that the points are highly similar. We can choose any of the below methods and a threshold value to suit our purpose."
      ],
      "metadata": {
        "id": "rMvUNo87NpWn"
      }
    },
    {
      "cell_type": "markdown",
      "source": [
        "1. Calculate distance between closest points and use the mean or median as a measure. Median is a more robust form."
      ],
      "metadata": {
        "id": "4NIWgbRsltEX"
      }
    },
    {
      "cell_type": "code",
      "source": [
        "x1 = np.array(list(zip(*set1))[0])\n",
        "x2 = np.array(list(zip(*set2))[0])\n",
        "y1 = np.array(list(zip(*set1))[1])\n",
        "y2 = np.array(list(zip(*set2))[1])"
      ],
      "metadata": {
        "id": "ikfhJXE4HYo1"
      },
      "execution_count": 7,
      "outputs": []
    },
    {
      "cell_type": "code",
      "source": [
        "def dist(x1, y1, x2, y2):\n",
        "  return np.sqrt((x1-x2)**2 + (y1-y2)**2)"
      ],
      "metadata": {
        "id": "2nvInfW5lZTN"
      },
      "execution_count": 8,
      "outputs": []
    },
    {
      "cell_type": "code",
      "source": [
        "d = dist(x1,y1,x2,y2)"
      ],
      "metadata": {
        "id": "mTvj8lG3mMhz"
      },
      "execution_count": 9,
      "outputs": []
    },
    {
      "cell_type": "code",
      "source": [
        "np.mean(d)"
      ],
      "metadata": {
        "colab": {
          "base_uri": "https://localhost:8080/"
        },
        "id": "Wx4soTQKnELx",
        "outputId": "8a96dd26-07af-4919-d40f-9d3d1ed2bb53"
      },
      "execution_count": 10,
      "outputs": [
        {
          "output_type": "execute_result",
          "data": {
            "text/plain": [
              "10.092222137124137"
            ]
          },
          "metadata": {},
          "execution_count": 10
        }
      ]
    },
    {
      "cell_type": "code",
      "source": [
        "np.mean(d) < epsilon"
      ],
      "metadata": {
        "colab": {
          "base_uri": "https://localhost:8080/"
        },
        "id": "wKfyprwVNIlJ",
        "outputId": "645e0a37-ee1a-4ff5-86a8-e5ffae14b72a"
      },
      "execution_count": 11,
      "outputs": [
        {
          "output_type": "execute_result",
          "data": {
            "text/plain": [
              "False"
            ]
          },
          "metadata": {},
          "execution_count": 11
        }
      ]
    },
    {
      "cell_type": "code",
      "source": [
        "np.median(d)"
      ],
      "metadata": {
        "colab": {
          "base_uri": "https://localhost:8080/"
        },
        "id": "aWLoshvXnMEP",
        "outputId": "9198b0ba-30b4-4f63-e7f8-851cf61d8d40"
      },
      "execution_count": 12,
      "outputs": [
        {
          "output_type": "execute_result",
          "data": {
            "text/plain": [
              "0.8828470528923039"
            ]
          },
          "metadata": {},
          "execution_count": 12
        }
      ]
    },
    {
      "cell_type": "code",
      "source": [
        "np.median(d) < epsilon"
      ],
      "metadata": {
        "colab": {
          "base_uri": "https://localhost:8080/"
        },
        "id": "7BybQJwuNi0J",
        "outputId": "1f658435-98f7-4aa9-91fa-2c9f37d7b7f6"
      },
      "execution_count": 13,
      "outputs": [
        {
          "output_type": "execute_result",
          "data": {
            "text/plain": [
              "True"
            ]
          },
          "metadata": {},
          "execution_count": 13
        }
      ]
    },
    {
      "cell_type": "markdown",
      "source": [
        "2. Calculate correlation between the points and check if they are similar for the two datasets."
      ],
      "metadata": {
        "id": "VgTiALXUnWr4"
      }
    },
    {
      "cell_type": "code",
      "source": [
        "np.corrcoef(x1, y1)"
      ],
      "metadata": {
        "colab": {
          "base_uri": "https://localhost:8080/"
        },
        "id": "lrhCltBJnt-0",
        "outputId": "7355f866-8866-424e-f795-230e7b3eece6"
      },
      "execution_count": 14,
      "outputs": [
        {
          "output_type": "execute_result",
          "data": {
            "text/plain": [
              "array([[ 1.        , -0.06042896],\n",
              "       [-0.06042896,  1.        ]])"
            ]
          },
          "metadata": {},
          "execution_count": 14
        }
      ]
    },
    {
      "cell_type": "code",
      "source": [
        "np.corrcoef(x2, y2)"
      ],
      "metadata": {
        "colab": {
          "base_uri": "https://localhost:8080/"
        },
        "id": "aWhprlpRn1DT",
        "outputId": "27a8f26e-79c6-449e-f5bf-b929ad484629"
      },
      "execution_count": 15,
      "outputs": [
        {
          "output_type": "execute_result",
          "data": {
            "text/plain": [
              "array([[ 1.        , -0.06144018],\n",
              "       [-0.06144018,  1.        ]])"
            ]
          },
          "metadata": {},
          "execution_count": 15
        }
      ]
    },
    {
      "cell_type": "code",
      "source": [
        "abs(np.corrcoef(x1, y1)[0][1] - np.corrcoef(x2, y2)[0][1])"
      ],
      "metadata": {
        "colab": {
          "base_uri": "https://localhost:8080/"
        },
        "id": "WIewYx85JyFo",
        "outputId": "2931922c-7c1e-4e57-cf47-265587edd9df"
      },
      "execution_count": 16,
      "outputs": [
        {
          "output_type": "execute_result",
          "data": {
            "text/plain": [
              "0.0010112149113142566"
            ]
          },
          "metadata": {},
          "execution_count": 16
        }
      ]
    },
    {
      "cell_type": "code",
      "source": [
        "abs(np.corrcoef(x1, y1)[0][1] - np.corrcoef(x2, y2)[0][1]) < epsilon"
      ],
      "metadata": {
        "colab": {
          "base_uri": "https://localhost:8080/"
        },
        "id": "3w06jTuqN4vH",
        "outputId": "03cb8c13-430e-4284-8dfc-498908600e10"
      },
      "execution_count": 17,
      "outputs": [
        {
          "output_type": "execute_result",
          "data": {
            "text/plain": [
              "True"
            ]
          },
          "metadata": {},
          "execution_count": 17
        }
      ]
    },
    {
      "cell_type": "markdown",
      "source": [
        "3. Absolute difference of y values"
      ],
      "metadata": {
        "id": "ufc9ea7nEvlp"
      }
    },
    {
      "cell_type": "code",
      "source": [
        "np.mean(abs(y1 - y2))"
      ],
      "metadata": {
        "colab": {
          "base_uri": "https://localhost:8080/"
        },
        "id": "gEroWL5nE-sw",
        "outputId": "10a9ac9d-c2ff-4531-cbcb-e8c993546382"
      },
      "execution_count": 18,
      "outputs": [
        {
          "output_type": "execute_result",
          "data": {
            "text/plain": [
              "9.844060651718326"
            ]
          },
          "metadata": {},
          "execution_count": 18
        }
      ]
    },
    {
      "cell_type": "code",
      "source": [
        "np.mean(abs(y1 - y2)) < epsilon"
      ],
      "metadata": {
        "colab": {
          "base_uri": "https://localhost:8080/"
        },
        "id": "HYdT8PTNOGH3",
        "outputId": "3cbb27bc-40df-4786-cc3f-45ffd72d8ee1"
      },
      "execution_count": 19,
      "outputs": [
        {
          "output_type": "execute_result",
          "data": {
            "text/plain": [
              "False"
            ]
          },
          "metadata": {},
          "execution_count": 19
        }
      ]
    },
    {
      "cell_type": "code",
      "source": [
        "np.median(abs(y1 - y2))"
      ],
      "metadata": {
        "colab": {
          "base_uri": "https://localhost:8080/"
        },
        "id": "F_M4yL9XKZBu",
        "outputId": "e5fa1d31-064a-46f5-beda-6b12054324d9"
      },
      "execution_count": 20,
      "outputs": [
        {
          "output_type": "execute_result",
          "data": {
            "text/plain": [
              "0.6038260711304737"
            ]
          },
          "metadata": {},
          "execution_count": 20
        }
      ]
    },
    {
      "cell_type": "code",
      "source": [
        "np.median(abs(y1 - y2)) < epsilon"
      ],
      "metadata": {
        "colab": {
          "base_uri": "https://localhost:8080/"
        },
        "id": "Vsdynng7OIFx",
        "outputId": "aeff1362-731f-420d-dc80-a8523251ce21"
      },
      "execution_count": 21,
      "outputs": [
        {
          "output_type": "execute_result",
          "data": {
            "text/plain": [
              "True"
            ]
          },
          "metadata": {},
          "execution_count": 21
        }
      ]
    },
    {
      "cell_type": "markdown",
      "source": [
        "4. Squared y values"
      ],
      "metadata": {
        "id": "q-t9q8JUFG4B"
      }
    },
    {
      "cell_type": "code",
      "source": [
        "np.mean(abs((y1 - y2)**2))"
      ],
      "metadata": {
        "colab": {
          "base_uri": "https://localhost:8080/"
        },
        "id": "7FfhUsGCFRoB",
        "outputId": "3638d954-dcb8-443c-8a63-9e0fd9084255"
      },
      "execution_count": 22,
      "outputs": [
        {
          "output_type": "execute_result",
          "data": {
            "text/plain": [
              "624.6681469649477"
            ]
          },
          "metadata": {},
          "execution_count": 22
        }
      ]
    },
    {
      "cell_type": "code",
      "source": [
        "np.mean(abs((y1 - y2)**2)) < epsilon"
      ],
      "metadata": {
        "colab": {
          "base_uri": "https://localhost:8080/"
        },
        "id": "K73nx3hVOQjH",
        "outputId": "a9edf114-2317-48e6-dc37-5dc4b37dff28"
      },
      "execution_count": 23,
      "outputs": [
        {
          "output_type": "execute_result",
          "data": {
            "text/plain": [
              "False"
            ]
          },
          "metadata": {},
          "execution_count": 23
        }
      ]
    },
    {
      "cell_type": "code",
      "source": [
        "np.median(abs((y1 - y2)**2))"
      ],
      "metadata": {
        "colab": {
          "base_uri": "https://localhost:8080/"
        },
        "id": "53-8fUlRKeKw",
        "outputId": "d4f3f3ec-8b2f-42fc-949b-720b65137bf6"
      },
      "execution_count": 24,
      "outputs": [
        {
          "output_type": "execute_result",
          "data": {
            "text/plain": [
              "0.3646215197222992"
            ]
          },
          "metadata": {},
          "execution_count": 24
        }
      ]
    },
    {
      "cell_type": "code",
      "source": [
        "np.median(abs((y1 - y2)**2)) < epsilon"
      ],
      "metadata": {
        "colab": {
          "base_uri": "https://localhost:8080/"
        },
        "id": "4Mf7Uc-gOWJQ",
        "outputId": "2d465283-ffa6-4259-a826-e799ab56da01"
      },
      "execution_count": 25,
      "outputs": [
        {
          "output_type": "execute_result",
          "data": {
            "text/plain": [
              "True"
            ]
          },
          "metadata": {},
          "execution_count": 25
        }
      ]
    },
    {
      "cell_type": "markdown",
      "source": [
        "We can see that mean clearly fails in most cases. This is due to the presence of outliers. Thus, median is a better measure."
      ],
      "metadata": {
        "id": "h85d2yy3OZcf"
      }
    },
    {
      "cell_type": "markdown",
      "source": [
        "5. Kolmogorov–Smirnov test \n",
        "It compares the two sample distributions to calculate the probability with which both the datasets belong to the same unknown distribution.\n",
        "\n"
      ],
      "metadata": {
        "id": "6oXQUcYFFdF7"
      }
    },
    {
      "cell_type": "code",
      "source": [
        "stats.ks_2samp(x1, x2)"
      ],
      "metadata": {
        "colab": {
          "base_uri": "https://localhost:8080/"
        },
        "id": "IBIyhswIpNel",
        "outputId": "3d7dde12-d14e-45a6-9b82-a2512ddd008f"
      },
      "execution_count": 26,
      "outputs": [
        {
          "output_type": "execute_result",
          "data": {
            "text/plain": [
              "KstestResult(statistic=0.03, pvalue=0.9999999999962054)"
            ]
          },
          "metadata": {},
          "execution_count": 26
        }
      ]
    },
    {
      "cell_type": "code",
      "source": [
        "stats.ks_2samp(y1, y2)"
      ],
      "metadata": {
        "colab": {
          "base_uri": "https://localhost:8080/"
        },
        "id": "gBv57nJ8pjl1",
        "outputId": "505054f0-a47c-4edf-d08b-da9eb2b7dd47"
      },
      "execution_count": 27,
      "outputs": [
        {
          "output_type": "execute_result",
          "data": {
            "text/plain": [
              "KstestResult(statistic=0.03, pvalue=0.9999999999962054)"
            ]
          },
          "metadata": {},
          "execution_count": 27
        }
      ]
    },
    {
      "cell_type": "markdown",
      "source": [
        "High p value implies that the points are highly likely to belong to the same distribution."
      ],
      "metadata": {
        "id": "9g9cR4pzOlGr"
      }
    }
  ]
}