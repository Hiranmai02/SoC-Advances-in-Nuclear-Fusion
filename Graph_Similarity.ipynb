{
  "nbformat": 4,
  "nbformat_minor": 0,
  "metadata": {
    "colab": {
      "name": "Graph_Similarity.ipynb",
      "provenance": []
    },
    "kernelspec": {
      "name": "python3",
      "display_name": "Python 3"
    },
    "language_info": {
      "name": "python"
    }
  },
  "cells": [
    {
      "cell_type": "code",
      "execution_count": 1,
      "metadata": {
        "id": "Q1COfaAL-Ni1"
      },
      "outputs": [],
      "source": [
        "import numpy as np\n",
        "import scipy.stats as stats\n",
        "import matplotlib.pyplot as plt"
      ]
    },
    {
      "cell_type": "markdown",
      "source": [
        "Creating a dataset using the uniform distribution and adding noise to the first dataset to create the second. The rest of the code can be used when the data points are given as tuples."
      ],
      "metadata": {
        "id": "CABHB6XSGDGx"
      }
    },
    {
      "cell_type": "code",
      "source": [
        "size = 100\n",
        "epsilon = 1\n",
        "x1 = size*stats.uniform.rvs(size = size)\n",
        "x2 = x1 + (size/100)*stats.uniform.rvs(size = size)\n",
        "y1 = size*stats.uniform.rvs(size = size)\n",
        "y2 = y1 + (size/100)*stats.uniform.rvs(size = size)"
      ],
      "metadata": {
        "id": "05k-oVllfhBi"
      },
      "execution_count": 2,
      "outputs": []
    },
    {
      "cell_type": "markdown",
      "source": [
        "Creating tuples from the x and y values for the two sets."
      ],
      "metadata": {
        "id": "bjjfCujhGqdw"
      }
    },
    {
      "cell_type": "code",
      "source": [
        "set1 = list()\n",
        "set2 = list()\n",
        "for (x, y) in zip(x1, y1):\n",
        "  set1.append((x,y))\n",
        "for (x, y) in zip(x2, y2):\n",
        "  set2.append((x,y))"
      ],
      "metadata": {
        "id": "C4QSLXR-Bask"
      },
      "execution_count": 3,
      "outputs": []
    },
    {
      "cell_type": "markdown",
      "source": [
        "Sorting the two sets by x to find the corresponding closest points. "
      ],
      "metadata": {
        "id": "njvWvoGcGzVs"
      }
    },
    {
      "cell_type": "code",
      "source": [
        "set1.sort()"
      ],
      "metadata": {
        "id": "-ivzl4AnDFQm"
      },
      "execution_count": 4,
      "outputs": []
    },
    {
      "cell_type": "code",
      "source": [
        "set2.sort()"
      ],
      "metadata": {
        "id": "luMVXiMlDNqA"
      },
      "execution_count": 5,
      "outputs": []
    },
    {
      "cell_type": "markdown",
      "source": [
        "Plotting the points"
      ],
      "metadata": {
        "id": "NXnvRywMHFcN"
      }
    },
    {
      "cell_type": "code",
      "source": [
        "plt.scatter(*zip(*set1))\n",
        "plt.scatter(*zip(*set2))\n",
        "plt.xlim([0,size])\n",
        "plt.ylim([0,size])\n",
        "plt.legend(['1', '2'])"
      ],
      "metadata": {
        "colab": {
          "base_uri": "https://localhost:8080/",
          "height": 286
        },
        "id": "ZiBocpb8gXIH",
        "outputId": "24d88655-c442-4493-d008-ae9a1d083d7e"
      },
      "execution_count": 6,
      "outputs": [
        {
          "output_type": "execute_result",
          "data": {
            "text/plain": [
              "<matplotlib.legend.Legend at 0x7fbf150a6590>"
            ]
          },
          "metadata": {},
          "execution_count": 6
        },
        {
          "output_type": "display_data",
          "data": {
            "text/plain": [
              "<Figure size 432x288 with 1 Axes>"
            ],
            "image/png": "[encoded data removed]"
          },
          "metadata": {
            "needs_background": "light"
          }
        }
      ]
    },
    {
      "cell_type": "markdown",
      "source": [
        "We calculate certain parameters and check it with a given threshold. If it is lesser then we conclude that the points are highly similar. We can choose any of the below methods and a threshold value to suit our purpose."
      ],
      "metadata": {
        "id": "rMvUNo87NpWn"
      }
    },
    {
      "cell_type": "markdown",
      "source": [
        "1. Calculate distance between closest points and use the mean or median as a measure. Median is a more robust form."
      ],
      "metadata": {
        "id": "4NIWgbRsltEX"
      }
    },
    {
      "cell_type": "code",
      "source": [
        "x1 = np.array(list(zip(*set1))[0])\n",
        "x2 = np.array(list(zip(*set2))[0])\n",
        "y1 = np.array(list(zip(*set1))[1])\n",
        "y2 = np.array(list(zip(*set2))[1])"
      ],
      "metadata": {
        "id": "ikfhJXE4HYo1"
      },
      "execution_count": 7,
      "outputs": []
    },
    {
      "cell_type": "code",
      "source": [
        "def dist(x1, y1, x2, y2):\n",
        "  return np.sqrt((x1-x2)**2 + (y1-y2)**2)"
      ],
      "metadata": {
        "id": "2nvInfW5lZTN"
      },
      "execution_count": 8,
      "outputs": []
    },
    {
      "cell_type": "code",
      "source": [
        "d = dist(x1,y1,x2,y2)"
      ],
      "metadata": {
        "id": "mTvj8lG3mMhz"
      },
      "execution_count": 9,
      "outputs": []
    },
    {
      "cell_type": "code",
      "source": [
        "np.mean(d)"
      ],
      "metadata": {
        "colab": {
          "base_uri": "https://localhost:8080/"
        },
        "id": "Wx4soTQKnELx",
        "outputId": "8d8a5524-9a74-4b23-a571-6aa9abc69e41"
      },
      "execution_count": 10,
      "outputs": [
        {
          "output_type": "execute_result",
          "data": {
            "text/plain": [
              "6.696801740341289"
            ]
          },
          "metadata": {},
          "execution_count": 10
        }
      ]
    },
    {
      "cell_type": "code",
      "source": [
        "np.mean(d) < epsilon"
      ],
      "metadata": {
        "colab": {
          "base_uri": "https://localhost:8080/"
        },
        "id": "wKfyprwVNIlJ",
        "outputId": "5af63e49-de45-41c7-8169-2a2c8c26875d"
      },
      "execution_count": 11,
      "outputs": [
        {
          "output_type": "execute_result",
          "data": {
            "text/plain": [
              "False"
            ]
          },
          "metadata": {},
          "execution_count": 11
        }
      ]
    },
    {
      "cell_type": "code",
      "source": [
        "np.median(d)"
      ],
      "metadata": {
        "colab": {
          "base_uri": "https://localhost:8080/"
        },
        "id": "aWLoshvXnMEP",
        "outputId": "42f21d42-a5b8-4a35-b675-04cb5dc2d485"
      },
      "execution_count": 12,
      "outputs": [
        {
          "output_type": "execute_result",
          "data": {
            "text/plain": [
              "0.8845932163995147"
            ]
          },
          "metadata": {},
          "execution_count": 12
        }
      ]
    },
    {
      "cell_type": "code",
      "source": [
        "np.median(d) < epsilon"
      ],
      "metadata": {
        "colab": {
          "base_uri": "https://localhost:8080/"
        },
        "id": "7BybQJwuNi0J",
        "outputId": "7bcda500-88be-43e6-86f7-3da63686efc7"
      },
      "execution_count": 13,
      "outputs": [
        {
          "output_type": "execute_result",
          "data": {
            "text/plain": [
              "True"
            ]
          },
          "metadata": {},
          "execution_count": 13
        }
      ]
    },
    {
      "cell_type": "markdown",
      "source": [
        "2. Calculate correlation between the points and check if they are similar for the two datasets."
      ],
      "metadata": {
        "id": "VgTiALXUnWr4"
      }
    },
    {
      "cell_type": "code",
      "source": [
        "np.corrcoef(x1, y1)"
      ],
      "metadata": {
        "colab": {
          "base_uri": "https://localhost:8080/"
        },
        "id": "lrhCltBJnt-0",
        "outputId": "e19095fc-90bd-4280-8ecb-6d29e2cd0253"
      },
      "execution_count": 14,
      "outputs": [
        {
          "output_type": "execute_result",
          "data": {
            "text/plain": [
              "array([[1.        , 0.01425674],\n",
              "       [0.01425674, 1.        ]])"
            ]
          },
          "metadata": {},
          "execution_count": 14
        }
      ]
    },
    {
      "cell_type": "code",
      "source": [
        "np.corrcoef(x2, y2)"
      ],
      "metadata": {
        "colab": {
          "base_uri": "https://localhost:8080/"
        },
        "id": "aWhprlpRn1DT",
        "outputId": "2cc85cd1-66f2-4750-ec6b-9a80bb528aeb"
      },
      "execution_count": 15,
      "outputs": [
        {
          "output_type": "execute_result",
          "data": {
            "text/plain": [
              "array([[1.        , 0.01523415],\n",
              "       [0.01523415, 1.        ]])"
            ]
          },
          "metadata": {},
          "execution_count": 15
        }
      ]
    },
    {
      "cell_type": "code",
      "source": [
        "abs(np.corrcoef(x1, y1)[0][1] - np.corrcoef(x2, y2)[0][1])"
      ],
      "metadata": {
        "colab": {
          "base_uri": "https://localhost:8080/"
        },
        "id": "WIewYx85JyFo",
        "outputId": "9c679e9b-cc12-4fea-e48c-2b34920604af"
      },
      "execution_count": 16,
      "outputs": [
        {
          "output_type": "execute_result",
          "data": {
            "text/plain": [
              "0.0009774100185813862"
            ]
          },
          "metadata": {},
          "execution_count": 16
        }
      ]
    },
    {
      "cell_type": "code",
      "source": [
        "abs(np.corrcoef(x1, y1)[0][1] - np.corrcoef(x2, y2)[0][1]) < epsilon"
      ],
      "metadata": {
        "colab": {
          "base_uri": "https://localhost:8080/"
        },
        "id": "3w06jTuqN4vH",
        "outputId": "6345e2c4-e669-4ec9-c5f5-1b40b737db48"
      },
      "execution_count": 17,
      "outputs": [
        {
          "output_type": "execute_result",
          "data": {
            "text/plain": [
              "True"
            ]
          },
          "metadata": {},
          "execution_count": 17
        }
      ]
    },
    {
      "cell_type": "markdown",
      "source": [
        "3. Absolute difference of y values"
      ],
      "metadata": {
        "id": "ufc9ea7nEvlp"
      }
    },
    {
      "cell_type": "code",
      "source": [
        "np.mean(abs(y1 - y2))"
      ],
      "metadata": {
        "colab": {
          "base_uri": "https://localhost:8080/"
        },
        "id": "gEroWL5nE-sw",
        "outputId": "c7e43f2f-27b7-48b5-9a51-2100b9169adb"
      },
      "execution_count": 18,
      "outputs": [
        {
          "output_type": "execute_result",
          "data": {
            "text/plain": [
              "6.471749938018278"
            ]
          },
          "metadata": {},
          "execution_count": 18
        }
      ]
    },
    {
      "cell_type": "code",
      "source": [
        "np.mean(abs(y1 - y2)) < epsilon"
      ],
      "metadata": {
        "colab": {
          "base_uri": "https://localhost:8080/"
        },
        "id": "HYdT8PTNOGH3",
        "outputId": "6498ec53-cc34-4e97-b087-93bfa0df15aa"
      },
      "execution_count": 19,
      "outputs": [
        {
          "output_type": "execute_result",
          "data": {
            "text/plain": [
              "False"
            ]
          },
          "metadata": {},
          "execution_count": 19
        }
      ]
    },
    {
      "cell_type": "code",
      "source": [
        "np.median(abs(y1 - y2))"
      ],
      "metadata": {
        "colab": {
          "base_uri": "https://localhost:8080/"
        },
        "id": "F_M4yL9XKZBu",
        "outputId": "b2cc8fb1-459c-4088-a8c6-a7d47b886786"
      },
      "execution_count": 20,
      "outputs": [
        {
          "output_type": "execute_result",
          "data": {
            "text/plain": [
              "0.6205580805990867"
            ]
          },
          "metadata": {},
          "execution_count": 20
        }
      ]
    },
    {
      "cell_type": "code",
      "source": [
        "np.median(abs(y1 - y2)) < epsilon"
      ],
      "metadata": {
        "colab": {
          "base_uri": "https://localhost:8080/"
        },
        "id": "Vsdynng7OIFx",
        "outputId": "d828cd3e-5d03-4985-a427-e80bd4083696"
      },
      "execution_count": 21,
      "outputs": [
        {
          "output_type": "execute_result",
          "data": {
            "text/plain": [
              "True"
            ]
          },
          "metadata": {},
          "execution_count": 21
        }
      ]
    },
    {
      "cell_type": "markdown",
      "source": [
        "4. Squared y values"
      ],
      "metadata": {
        "id": "q-t9q8JUFG4B"
      }
    },
    {
      "cell_type": "code",
      "source": [
        "np.mean(abs((y1 - y2)**2))"
      ],
      "metadata": {
        "colab": {
          "base_uri": "https://localhost:8080/"
        },
        "id": "7FfhUsGCFRoB",
        "outputId": "1a6f2bb5-012e-4f7d-9b9d-0bb7d1800d7f"
      },
      "execution_count": 22,
      "outputs": [
        {
          "output_type": "execute_result",
          "data": {
            "text/plain": [
              "267.4000568736107"
            ]
          },
          "metadata": {},
          "execution_count": 22
        }
      ]
    },
    {
      "cell_type": "code",
      "source": [
        "np.mean(abs((y1 - y2)**2)) < epsilon"
      ],
      "metadata": {
        "colab": {
          "base_uri": "https://localhost:8080/"
        },
        "id": "K73nx3hVOQjH",
        "outputId": "70e74906-dc40-4264-ff26-a0f20db1900f"
      },
      "execution_count": 23,
      "outputs": [
        {
          "output_type": "execute_result",
          "data": {
            "text/plain": [
              "False"
            ]
          },
          "metadata": {},
          "execution_count": 23
        }
      ]
    },
    {
      "cell_type": "code",
      "source": [
        "np.median(abs((y1 - y2)**2))"
      ],
      "metadata": {
        "colab": {
          "base_uri": "https://localhost:8080/"
        },
        "id": "53-8fUlRKeKw",
        "outputId": "94692701-8514-4906-a400-f1ea410c03d8"
      },
      "execution_count": 24,
      "outputs": [
        {
          "output_type": "execute_result",
          "data": {
            "text/plain": [
              "0.3851099844633724"
            ]
          },
          "metadata": {},
          "execution_count": 24
        }
      ]
    },
    {
      "cell_type": "code",
      "source": [
        "np.median(abs((y1 - y2)**2)) < epsilon"
      ],
      "metadata": {
        "colab": {
          "base_uri": "https://localhost:8080/"
        },
        "id": "4Mf7Uc-gOWJQ",
        "outputId": "57570d19-8f59-493f-b7f7-4887ccc0dc89"
      },
      "execution_count": 25,
      "outputs": [
        {
          "output_type": "execute_result",
          "data": {
            "text/plain": [
              "True"
            ]
          },
          "metadata": {},
          "execution_count": 25
        }
      ]
    },
    {
      "cell_type": "markdown",
      "source": [
        "We can see that mean clearly fails in most cases. This is due to the presence of outliers. Thus, median is a better measure."
      ],
      "metadata": {
        "id": "h85d2yy3OZcf"
      }
    },
    {
      "cell_type": "markdown",
      "source": [
        "5. Kolmogorov–Smirnov test"
      ],
      "metadata": {
        "id": "6oXQUcYFFdF7"
      }
    },
    {
      "cell_type": "code",
      "source": [
        "stats.ks_2samp(x1, x2)"
      ],
      "metadata": {
        "colab": {
          "base_uri": "https://localhost:8080/"
        },
        "id": "IBIyhswIpNel",
        "outputId": "709bf8f4-4bb6-46d1-d660-4a4eacb84894"
      },
      "execution_count": 26,
      "outputs": [
        {
          "output_type": "execute_result",
          "data": {
            "text/plain": [
              "Ks_2sampResult(statistic=0.05, pvalue=0.9996892272702655)"
            ]
          },
          "metadata": {},
          "execution_count": 26
        }
      ]
    },
    {
      "cell_type": "code",
      "source": [
        "stats.ks_2samp(y1, y2)"
      ],
      "metadata": {
        "colab": {
          "base_uri": "https://localhost:8080/"
        },
        "id": "gBv57nJ8pjl1",
        "outputId": "91cebcb2-8ab0-4269-c257-e274ab66fc9e"
      },
      "execution_count": 27,
      "outputs": [
        {
          "output_type": "execute_result",
          "data": {
            "text/plain": [
              "Ks_2sampResult(statistic=0.04, pvalue=0.999998821968263)"
            ]
          },
          "metadata": {},
          "execution_count": 27
        }
      ]
    },
    {
      "cell_type": "markdown",
      "source": [
        "High p value implies that the points are highly similar."
      ],
      "metadata": {
        "id": "9g9cR4pzOlGr"
      }
    }
  ]
}