{
  "nbformat": 4,
  "nbformat_minor": 0,
  "metadata": {
    "colab": {
      "name": "Graph_Similarity.ipynb",
      "provenance": []
    },
    "kernelspec": {
      "name": "python3",
      "display_name": "Python 3"
    },
    "language_info": {
      "name": "python"
    }
  },
  "cells": [
    {
      "cell_type": "markdown",
      "source": [
        "The graph similarity code elaborates on a set of techniques and methods that can be used to verify whether two sets of data points completely superimpose each other with a certain degree of confidence that can be set by the user. This code uses a synthetic dataset to show the working.\n"
      ],
      "metadata": {
        "id": "UBSFXfNQZEYu"
      }
    },
    {
      "cell_type": "code",
      "execution_count": null,
      "metadata": {
        "id": "Q1COfaAL-Ni1"
      },
      "outputs": [],
      "source": [
        "import numpy as np\n",
        "import scipy.stats as stats\n",
        "import matplotlib.pyplot as plt"
      ]
    },
    {
      "cell_type": "markdown",
      "source": [
        "Creating a dataset using the uniform distribution and adding noise to the first dataset to create the second. The rest of the code can be used when the data points are given as tuples."
      ],
      "metadata": {
        "id": "CABHB6XSGDGx"
      }
    },
    {
      "cell_type": "code",
      "source": [
        "size = 100\n",
        "epsilon = size/100\n",
        "x1 = size*stats.uniform.rvs(size = size)\n",
        "x2 = x1 + (size/100)*stats.uniform.rvs(size = size)\n",
        "y1 = size*stats.uniform.rvs(size = size)\n",
        "y2 = y1 + (size/100)*stats.uniform.rvs(size = size)"
      ],
      "metadata": {
        "id": "05k-oVllfhBi"
      },
      "execution_count": null,
      "outputs": []
    },
    {
      "cell_type": "markdown",
      "source": [
        "Creating tuples from the x and y values for the two sets."
      ],
      "metadata": {
        "id": "bjjfCujhGqdw"
      }
    },
    {
      "cell_type": "code",
      "source": [
        "set1 = list()\n",
        "set2 = list()\n",
        "for (x, y) in zip(x1, y1):\n",
        "  set1.append((x,y))\n",
        "for (x, y) in zip(x2, y2):\n",
        "  set2.append((x,y))"
      ],
      "metadata": {
        "id": "C4QSLXR-Bask"
      },
      "execution_count": null,
      "outputs": []
    },
    {
      "cell_type": "markdown",
      "source": [
        "Sorting the two sets by x to find the corresponding closest points. "
      ],
      "metadata": {
        "id": "njvWvoGcGzVs"
      }
    },
    {
      "cell_type": "code",
      "source": [
        "set1.sort()"
      ],
      "metadata": {
        "id": "-ivzl4AnDFQm"
      },
      "execution_count": null,
      "outputs": []
    },
    {
      "cell_type": "code",
      "source": [
        "set2.sort()"
      ],
      "metadata": {
        "id": "luMVXiMlDNqA"
      },
      "execution_count": null,
      "outputs": []
    },
    {
      "cell_type": "markdown",
      "source": [
        "Plotting the points"
      ],
      "metadata": {
        "id": "NXnvRywMHFcN"
      }
    },
    {
      "cell_type": "code",
      "source": [
        "plt.scatter(*zip(*set1))\n",
        "plt.scatter(*zip(*set2))\n",
        "plt.xlim([0,size])\n",
        "plt.ylim([0,size])\n",
        "plt.legend(['1', '2'])"
      ],
      "metadata": {
        "colab": {
          "base_uri": "https://localhost:8080/",
          "height": 286
        },
        "id": "ZiBocpb8gXIH",
        "outputId": "608c2699-bec2-414d-c06e-d3b0d3eb8e71"
      },
      "execution_count": null,
      "outputs": [
        {
          "output_type": "execute_result",
          "data": {
            "text/plain": [
              "<matplotlib.legend.Legend at 0x7fd63799af50>"
            ]
          },
          "metadata": {},
          "execution_count": 6
        },
        {
          "output_type": "display_data",
          "data": {
            "text/plain": [
              "<Figure size 432x288 with 1 Axes>"
            ],
            "image/png": "[encoded data removed]"
          },
          "metadata": {
            "needs_background": "light"
          }
        }
      ]
    },
    {
      "cell_type": "markdown",
      "source": [
        "We calculate certain parameters and check it with a given threshold. If it is lesser then we conclude that the points are highly similar. We can choose any of the below methods and a threshold value to suit our purpose."
      ],
      "metadata": {
        "id": "rMvUNo87NpWn"
      }
    },
    {
      "cell_type": "markdown",
      "source": [
        "1. Calculate distance between closest points and use the mean or median as a measure. Median is a more robust form."
      ],
      "metadata": {
        "id": "4NIWgbRsltEX"
      }
    },
    {
      "cell_type": "code",
      "source": [
        "x1 = np.array(list(zip(*set1))[0])\n",
        "x2 = np.array(list(zip(*set2))[0])\n",
        "y1 = np.array(list(zip(*set1))[1])\n",
        "y2 = np.array(list(zip(*set2))[1])"
      ],
      "metadata": {
        "id": "ikfhJXE4HYo1"
      },
      "execution_count": null,
      "outputs": []
    },
    {
      "cell_type": "code",
      "source": [
        "def dist(x1, y1, x2, y2):\n",
        "  return np.sqrt((x1-x2)**2 + (y1-y2)**2)"
      ],
      "metadata": {
        "id": "2nvInfW5lZTN"
      },
      "execution_count": null,
      "outputs": []
    },
    {
      "cell_type": "code",
      "source": [
        "d = dist(x1,y1,x2,y2)"
      ],
      "metadata": {
        "id": "mTvj8lG3mMhz"
      },
      "execution_count": null,
      "outputs": []
    },
    {
      "cell_type": "code",
      "source": [
        "np.mean(d)"
      ],
      "metadata": {
        "colab": {
          "base_uri": "https://localhost:8080/"
        },
        "id": "Wx4soTQKnELx",
        "outputId": "09063e53-97d8-49a9-97bc-68116779ba17"
      },
      "execution_count": null,
      "outputs": [
        {
          "output_type": "execute_result",
          "data": {
            "text/plain": [
              "8.826252217141189"
            ]
          },
          "metadata": {},
          "execution_count": 10
        }
      ]
    },
    {
      "cell_type": "code",
      "source": [
        "np.mean(d) < epsilon"
      ],
      "metadata": {
        "colab": {
          "base_uri": "https://localhost:8080/"
        },
        "id": "wKfyprwVNIlJ",
        "outputId": "e545f1bd-36bf-4340-a611-ab09b1e4d9ff"
      },
      "execution_count": null,
      "outputs": [
        {
          "output_type": "execute_result",
          "data": {
            "text/plain": [
              "False"
            ]
          },
          "metadata": {},
          "execution_count": 11
        }
      ]
    },
    {
      "cell_type": "code",
      "source": [
        "np.median(d)"
      ],
      "metadata": {
        "colab": {
          "base_uri": "https://localhost:8080/"
        },
        "id": "aWLoshvXnMEP",
        "outputId": "eaf0194f-c74e-4d8a-dd84-eeffdff06dd4"
      },
      "execution_count": null,
      "outputs": [
        {
          "output_type": "execute_result",
          "data": {
            "text/plain": [
              "0.881657580561967"
            ]
          },
          "metadata": {},
          "execution_count": 12
        }
      ]
    },
    {
      "cell_type": "code",
      "source": [
        "np.median(d) < epsilon"
      ],
      "metadata": {
        "colab": {
          "base_uri": "https://localhost:8080/"
        },
        "id": "7BybQJwuNi0J",
        "outputId": "a068f196-8e54-426c-8f86-854681fc847f"
      },
      "execution_count": null,
      "outputs": [
        {
          "output_type": "execute_result",
          "data": {
            "text/plain": [
              "True"
            ]
          },
          "metadata": {},
          "execution_count": 13
        }
      ]
    },
    {
      "cell_type": "markdown",
      "source": [
        "2. Calculate correlation between the points and check if they are similar for the two datasets."
      ],
      "metadata": {
        "id": "VgTiALXUnWr4"
      }
    },
    {
      "cell_type": "code",
      "source": [
        "np.corrcoef(x1, y1)"
      ],
      "metadata": {
        "colab": {
          "base_uri": "https://localhost:8080/"
        },
        "id": "lrhCltBJnt-0",
        "outputId": "e1986b1d-9bb0-476c-8de5-43ececda97d4"
      },
      "execution_count": null,
      "outputs": [
        {
          "output_type": "execute_result",
          "data": {
            "text/plain": [
              "array([[ 1.        , -0.11263258],\n",
              "       [-0.11263258,  1.        ]])"
            ]
          },
          "metadata": {},
          "execution_count": 14
        }
      ]
    },
    {
      "cell_type": "code",
      "source": [
        "np.corrcoef(x2, y2)"
      ],
      "metadata": {
        "colab": {
          "base_uri": "https://localhost:8080/"
        },
        "id": "aWhprlpRn1DT",
        "outputId": "e66c75a9-8fa8-4db0-ade4-c4d1aa144993"
      },
      "execution_count": null,
      "outputs": [
        {
          "output_type": "execute_result",
          "data": {
            "text/plain": [
              "array([[ 1.        , -0.11288613],\n",
              "       [-0.11288613,  1.        ]])"
            ]
          },
          "metadata": {},
          "execution_count": 15
        }
      ]
    },
    {
      "cell_type": "code",
      "source": [
        "abs(np.corrcoef(x1, y1)[0][1] - np.corrcoef(x2, y2)[0][1])"
      ],
      "metadata": {
        "colab": {
          "base_uri": "https://localhost:8080/"
        },
        "id": "WIewYx85JyFo",
        "outputId": "548d4035-a876-46fb-e007-eaf570274591"
      },
      "execution_count": null,
      "outputs": [
        {
          "output_type": "execute_result",
          "data": {
            "text/plain": [
              "0.0002535533323608785"
            ]
          },
          "metadata": {},
          "execution_count": 16
        }
      ]
    },
    {
      "cell_type": "code",
      "source": [
        "abs(np.corrcoef(x1, y1)[0][1] - np.corrcoef(x2, y2)[0][1]) < epsilon"
      ],
      "metadata": {
        "colab": {
          "base_uri": "https://localhost:8080/"
        },
        "id": "3w06jTuqN4vH",
        "outputId": "707da71c-dcbe-45b5-9a13-e17dff6ab44c"
      },
      "execution_count": null,
      "outputs": [
        {
          "output_type": "execute_result",
          "data": {
            "text/plain": [
              "True"
            ]
          },
          "metadata": {},
          "execution_count": 17
        }
      ]
    },
    {
      "cell_type": "markdown",
      "source": [
        "3. Absolute difference of y values"
      ],
      "metadata": {
        "id": "ufc9ea7nEvlp"
      }
    },
    {
      "cell_type": "code",
      "source": [
        "np.mean(abs(y1 - y2))"
      ],
      "metadata": {
        "colab": {
          "base_uri": "https://localhost:8080/"
        },
        "id": "gEroWL5nE-sw",
        "outputId": "b86772ae-37b8-47b4-c6b6-94e96b2aaf6f"
      },
      "execution_count": null,
      "outputs": [
        {
          "output_type": "execute_result",
          "data": {
            "text/plain": [
              "8.631576470035995"
            ]
          },
          "metadata": {},
          "execution_count": 18
        }
      ]
    },
    {
      "cell_type": "code",
      "source": [
        "np.mean(abs(y1 - y2)) < epsilon"
      ],
      "metadata": {
        "colab": {
          "base_uri": "https://localhost:8080/"
        },
        "id": "HYdT8PTNOGH3",
        "outputId": "52633bde-8e8e-4d1a-e18b-d49d7ed9af6b"
      },
      "execution_count": null,
      "outputs": [
        {
          "output_type": "execute_result",
          "data": {
            "text/plain": [
              "False"
            ]
          },
          "metadata": {},
          "execution_count": 19
        }
      ]
    },
    {
      "cell_type": "code",
      "source": [
        "np.median(abs(y1 - y2))"
      ],
      "metadata": {
        "colab": {
          "base_uri": "https://localhost:8080/"
        },
        "id": "F_M4yL9XKZBu",
        "outputId": "5be4a754-1877-4d60-9dbd-fbe76a21c5f7"
      },
      "execution_count": null,
      "outputs": [
        {
          "output_type": "execute_result",
          "data": {
            "text/plain": [
              "0.6351752596055587"
            ]
          },
          "metadata": {},
          "execution_count": 20
        }
      ]
    },
    {
      "cell_type": "code",
      "source": [
        "np.median(abs(y1 - y2)) < epsilon"
      ],
      "metadata": {
        "colab": {
          "base_uri": "https://localhost:8080/"
        },
        "id": "Vsdynng7OIFx",
        "outputId": "92e39c27-87ea-4b34-c6d5-cea953db82bd"
      },
      "execution_count": null,
      "outputs": [
        {
          "output_type": "execute_result",
          "data": {
            "text/plain": [
              "True"
            ]
          },
          "metadata": {},
          "execution_count": 21
        }
      ]
    },
    {
      "cell_type": "markdown",
      "source": [
        "4. Squared y values"
      ],
      "metadata": {
        "id": "q-t9q8JUFG4B"
      }
    },
    {
      "cell_type": "code",
      "source": [
        "np.mean(abs((y1 - y2)**2))"
      ],
      "metadata": {
        "colab": {
          "base_uri": "https://localhost:8080/"
        },
        "id": "7FfhUsGCFRoB",
        "outputId": "8705233a-8497-4fa0-87d6-77c7cbdc89c3"
      },
      "execution_count": null,
      "outputs": [
        {
          "output_type": "execute_result",
          "data": {
            "text/plain": [
              "359.15317432417595"
            ]
          },
          "metadata": {},
          "execution_count": 22
        }
      ]
    },
    {
      "cell_type": "code",
      "source": [
        "np.mean(abs((y1 - y2)**2)) < epsilon"
      ],
      "metadata": {
        "colab": {
          "base_uri": "https://localhost:8080/"
        },
        "id": "K73nx3hVOQjH",
        "outputId": "e49a7894-b574-4fcb-c8a7-c93189f86dba"
      },
      "execution_count": null,
      "outputs": [
        {
          "output_type": "execute_result",
          "data": {
            "text/plain": [
              "False"
            ]
          },
          "metadata": {},
          "execution_count": 23
        }
      ]
    },
    {
      "cell_type": "code",
      "source": [
        "np.median(abs((y1 - y2)**2))"
      ],
      "metadata": {
        "colab": {
          "base_uri": "https://localhost:8080/"
        },
        "id": "53-8fUlRKeKw",
        "outputId": "81a0d26d-082f-4ab9-bd67-6cfe07cab4f0"
      },
      "execution_count": null,
      "outputs": [
        {
          "output_type": "execute_result",
          "data": {
            "text/plain": [
              "0.40376486833083797"
            ]
          },
          "metadata": {},
          "execution_count": 24
        }
      ]
    },
    {
      "cell_type": "code",
      "source": [
        "np.median(abs((y1 - y2)**2)) < epsilon"
      ],
      "metadata": {
        "colab": {
          "base_uri": "https://localhost:8080/"
        },
        "id": "4Mf7Uc-gOWJQ",
        "outputId": "279f2ab8-e045-44b6-b4c2-3e70677d0c09"
      },
      "execution_count": null,
      "outputs": [
        {
          "output_type": "execute_result",
          "data": {
            "text/plain": [
              "True"
            ]
          },
          "metadata": {},
          "execution_count": 25
        }
      ]
    },
    {
      "cell_type": "markdown",
      "source": [
        "We can see that mean clearly fails in most cases. This is due to the presence of outliers. Thus, median is a better measure."
      ],
      "metadata": {
        "id": "h85d2yy3OZcf"
      }
    },
    {
      "cell_type": "markdown",
      "source": [
        "5. Kolmogorov–Smirnov test \n",
        "It compares the two sample distributions to calculate the probability with which both the datasets belong to the same unknown distribution.\n",
        "\n"
      ],
      "metadata": {
        "id": "6oXQUcYFFdF7"
      }
    },
    {
      "cell_type": "code",
      "source": [
        "stats.ks_2samp(x1, x2)"
      ],
      "metadata": {
        "colab": {
          "base_uri": "https://localhost:8080/"
        },
        "id": "IBIyhswIpNel",
        "outputId": "6a2d7ed9-fb3c-41bb-aca2-80d839a410dd"
      },
      "execution_count": null,
      "outputs": [
        {
          "output_type": "execute_result",
          "data": {
            "text/plain": [
              "Ks_2sampResult(statistic=0.03, pvalue=0.9999999999962054)"
            ]
          },
          "metadata": {},
          "execution_count": 26
        }
      ]
    },
    {
      "cell_type": "code",
      "source": [
        "stats.ks_2samp(y1, y2)"
      ],
      "metadata": {
        "colab": {
          "base_uri": "https://localhost:8080/"
        },
        "id": "gBv57nJ8pjl1",
        "outputId": "6be743dc-6c55-447a-e843-54379dc60c9a"
      },
      "execution_count": null,
      "outputs": [
        {
          "output_type": "execute_result",
          "data": {
            "text/plain": [
              "Ks_2sampResult(statistic=0.03, pvalue=0.9999999999962054)"
            ]
          },
          "metadata": {},
          "execution_count": 27
        }
      ]
    },
    {
      "cell_type": "markdown",
      "source": [
        "High p value implies that the points are highly likely to belong to the same distribution."
      ],
      "metadata": {
        "id": "9g9cR4pzOlGr"
      }
    }
  ]
}